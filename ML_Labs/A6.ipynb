{
 "cells": [
  {
   "cell_type": "markdown",
   "id": "fd9b0980",
   "metadata": {},
   "source": [
    "Implement Reinforcement Learning using an example of a maze environment that the agent needs to explore."
   ]
  },
  {
   "cell_type": "code",
   "execution_count": 1,
   "id": "7299deab",
   "metadata": {},
   "outputs": [],
   "source": [
    "# Simple Maze Solver - Q-Learning\n",
    "\n",
    "\n",
    "import numpy as np"
   ]
  },
  {
   "cell_type": "code",
   "execution_count": 2,
   "id": "12a8b521",
   "metadata": {},
   "outputs": [],
   "source": [
    "# Define maze (0 = path, 1 = wall)\n",
    "maze = np.array([\n",
    "    [0, 0, 1, 0, 0],\n",
    "    [0, 0, 1, 0, 1],\n",
    "    [0, 0, 0, 0, 0],\n",
    "    [1, 1, 1, 0, 1],\n",
    "    [0, 0, 0, 0, 0]\n",
    "])\n",
    "\n",
    "start = (0, 0)\n",
    "goal = (4, 4)\n",
    "rows, cols = maze.shape\n"
   ]
  },
  {
   "cell_type": "code",
   "execution_count": 3,
   "id": "ed0dd975",
   "metadata": {},
   "outputs": [],
   "source": [
    "# Initialize Q-table: (rows, cols, 4 actions)\n",
    "# Actions: 0=up, 1=down, 2=left, 3=right\n",
    "q_table = np.zeros((rows, cols, 4))"
   ]
  },
  {
   "cell_type": "code",
   "execution_count": 4,
   "id": "4e001a9d",
   "metadata": {},
   "outputs": [],
   "source": [
    "# Parameters\n",
    "alpha = 0.1      # Learning rate\n",
    "gamma = 0.9      # Discount factor\n",
    "epsilon = 0.9    # Exploration rate\n",
    "episodes = 500\n"
   ]
  },
  {
   "cell_type": "code",
   "execution_count": 5,
   "id": "668854d9",
   "metadata": {},
   "outputs": [],
   "source": [
    "# Actions\n",
    "actions = [(-1, 0), (1, 0), (0, -1), (0, 1)]"
   ]
  },
  {
   "cell_type": "code",
   "execution_count": 6,
   "id": "efb80b72",
   "metadata": {},
   "outputs": [],
   "source": [
    "# Helper functions\n",
    "def is_valid(pos):\n",
    "    r, c = pos\n",
    "    return 0 <= r < rows and 0 <= c < cols and maze[r][c] == 0\n",
    "\n",
    "def get_next_pos(current, action_idx):\n",
    "    next_pos = (current[0] + actions[action_idx][0], \n",
    "                current[1] + actions[action_idx][1])\n",
    "    return next_pos if is_valid(next_pos) else current\n",
    "\n",
    "def get_reward(pos):\n",
    "    return 100 if pos == goal else -1"
   ]
  },
  {
   "cell_type": "code",
   "execution_count": 7,
   "id": "0f0b5dea",
   "metadata": {},
   "outputs": [
    {
     "name": "stdout",
     "output_type": "stream",
     "text": [
      "Training agent...\n",
      "Training complete!\n",
      "\n"
     ]
    }
   ],
   "source": [
    "# Training\n",
    "print(\"Training agent...\")\n",
    "for episode in range(episodes):\n",
    "    pos = start\n",
    "    \n",
    "    while pos != goal:\n",
    "        # Choose action (explore or exploit)\n",
    "        if np.random.random() < epsilon:\n",
    "            action = np.random.randint(4)\n",
    "        else:\n",
    "            action = np.argmax(q_table[pos[0], pos[1]])\n",
    "        \n",
    "        # Take action\n",
    "        next_pos = get_next_pos(pos, action)\n",
    "        reward = get_reward(next_pos)\n",
    "        \n",
    "        # Update Q-table\n",
    "        current_q = q_table[pos[0], pos[1], action]\n",
    "        max_next_q = np.max(q_table[next_pos[0], next_pos[1]])\n",
    "        q_table[pos[0], pos[1], action] = current_q + alpha * (reward + gamma * max_next_q - current_q)\n",
    "        \n",
    "        pos = next_pos\n",
    "    \n",
    "    epsilon = max(0.1, epsilon * 0.995)\n",
    "\n",
    "print(\"Training complete!\\n\")"
   ]
  },
  {
   "cell_type": "code",
   "execution_count": 8,
   "id": "6e7a31b5",
   "metadata": {},
   "outputs": [
    {
     "name": "stdout",
     "output_type": "stream",
     "text": [
      "Path found in 8 steps:\n",
      "[(0, 0), (1, 0), (1, 1), (2, 1), (2, 2), (2, 3), (3, 3), (4, 3), (4, 4)]\n"
     ]
    }
   ],
   "source": [
    "# Test the agent\n",
    "pos = start\n",
    "path = [pos]\n",
    "\n",
    "while pos != goal:\n",
    "    action = np.argmax(q_table[pos[0], pos[1]])\n",
    "    pos = get_next_pos(pos, action)\n",
    "    path.append(pos)\n",
    "\n",
    "print(f\"Path found in {len(path)-1} steps:\")\n",
    "print(path)"
   ]
  },
  {
   "cell_type": "code",
   "execution_count": 9,
   "id": "8344c658",
   "metadata": {},
   "outputs": [
    {
     "name": "stdout",
     "output_type": "stream",
     "text": [
      "\n",
      "Maze Solution:\n",
      "S . # . . \n",
      "* * # . # \n",
      ". * * * . \n",
      "# # # * # \n",
      ". . . * G \n",
      "\n",
      "S=Start, G=Goal, *=Path, #=Wall, .=Empty\n"
     ]
    }
   ],
   "source": [
    "# Visualize solution\n",
    "print(\"\\nMaze Solution:\")\n",
    "for i in range(rows):\n",
    "    for j in range(cols):\n",
    "        if (i, j) == start:\n",
    "            print(\"S\", end=\" \")\n",
    "        elif (i, j) == goal:\n",
    "            print(\"G\", end=\" \")\n",
    "        elif (i, j) in path:\n",
    "            print(\"*\", end=\" \")\n",
    "        elif maze[i][j] == 1:\n",
    "            print(\"#\", end=\" \")\n",
    "        else:\n",
    "            print(\".\", end=\" \")\n",
    "    print()\n",
    "\n",
    "print(\"\\nS=Start, G=Goal, *=Path, #=Wall, .=Empty\")"
   ]
  }
 ],
 "metadata": {
  "kernelspec": {
   "display_name": "Python 3",
   "language": "python",
   "name": "python3"
  },
  "language_info": {
   "codemirror_mode": {
    "name": "ipython",
    "version": 3
   },
   "file_extension": ".py",
   "mimetype": "text/x-python",
   "name": "python",
   "nbconvert_exporter": "python",
   "pygments_lexer": "ipython3",
   "version": "3.13.7"
  }
 },
 "nbformat": 4,
 "nbformat_minor": 5
}
